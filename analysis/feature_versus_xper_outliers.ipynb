{
 "cells": [
  {
   "cell_type": "code",
   "execution_count": 1,
   "metadata": {},
   "outputs": [],
   "source": [
    "import pandas as pd\n",
    "import os"
   ]
  },
  {
   "cell_type": "code",
   "execution_count": 2,
   "metadata": {},
   "outputs": [],
   "source": [
    "cwd = os.getcwd()\n",
    "parent_dir = os.path.abspath(os.path.join(cwd, '..'))\n",
    "os.chdir(parent_dir)"
   ]
  },
  {
   "cell_type": "code",
   "execution_count": 3,
   "metadata": {},
   "outputs": [],
   "source": [
    "exp_path = os.path.join(\"experiments\", \"experiment_results_17022025212918\", \"credit_risk\")\n",
    "\n",
    "\n",
    "columns = [\"Job tenure\", \"Age\", \"Car price\", \"Funding amount\"]\n",
    "xper_test_path = os.path.join(exp_path, \"xper_values\", \"test_per_instance_xper.csv\")\n",
    "xper_train_path = os.path.join(exp_path, \"xper_values\", \"train_per_instance_xper.csv\")\n",
    "\n",
    "data_path = os.path.join(exp_path, \"data\", \"full_dataset.csv\")\n",
    "\n",
    "df_xper_test = pd.read_csv(xper_test_path, index_col=0)\n",
    "df_xper_train = pd.read_csv(xper_train_path, index_col=0)\n"
   ]
  },
  {
   "cell_type": "code",
   "execution_count": 4,
   "metadata": {},
   "outputs": [],
   "source": [
    "df1 = pd.read_csv(data_path, index_col=0)[columns]\n",
    "df2 = pd.concat([df_xper_test, df_xper_train])[columns]"
   ]
  },
  {
   "cell_type": "code",
   "execution_count": 5,
   "metadata": {},
   "outputs": [
    {
     "data": {
      "text/html": [
       "<div>\n",
       "<style scoped>\n",
       "    .dataframe tbody tr th:only-of-type {\n",
       "        vertical-align: middle;\n",
       "    }\n",
       "\n",
       "    .dataframe tbody tr th {\n",
       "        vertical-align: top;\n",
       "    }\n",
       "\n",
       "    .dataframe thead th {\n",
       "        text-align: right;\n",
       "    }\n",
       "</style>\n",
       "<table border=\"1\" class=\"dataframe\">\n",
       "  <thead>\n",
       "    <tr style=\"text-align: right;\">\n",
       "      <th></th>\n",
       "      <th>Column</th>\n",
       "      <th>Outliers in Raw| Dataset</th>\n",
       "      <th>Outliers in XPER Dataset</th>\n",
       "    </tr>\n",
       "  </thead>\n",
       "  <tbody>\n",
       "    <tr>\n",
       "      <th>0</th>\n",
       "      <td>Job tenure</td>\n",
       "      <td>115</td>\n",
       "      <td>347</td>\n",
       "    </tr>\n",
       "    <tr>\n",
       "      <th>1</th>\n",
       "      <td>Age</td>\n",
       "      <td>0</td>\n",
       "      <td>684</td>\n",
       "    </tr>\n",
       "    <tr>\n",
       "      <th>2</th>\n",
       "      <td>Car price</td>\n",
       "      <td>68</td>\n",
       "      <td>266</td>\n",
       "    </tr>\n",
       "    <tr>\n",
       "      <th>3</th>\n",
       "      <td>Funding amount</td>\n",
       "      <td>59</td>\n",
       "      <td>408</td>\n",
       "    </tr>\n",
       "  </tbody>\n",
       "</table>\n",
       "</div>"
      ],
      "text/plain": [
       "           Column  Outliers in Raw| Dataset  Outliers in XPER Dataset\n",
       "0      Job tenure                       115                       347\n",
       "1             Age                         0                       684\n",
       "2       Car price                        68                       266\n",
       "3  Funding amount                        59                       408"
      ]
     },
     "execution_count": 5,
     "metadata": {},
     "output_type": "execute_result"
    }
   ],
   "source": [
    "\n",
    "# Function to detect outliers using the IQR method\n",
    "def detect_outliers_iqr(data, column):\n",
    "    Q1 = data[column].quantile(0.25)\n",
    "    Q3 = data[column].quantile(0.75)\n",
    "    IQR = Q3 - Q1\n",
    "    lower_bound = Q1 - 1.5 * IQR\n",
    "    upper_bound = Q3 + 1.5 * IQR\n",
    "    return ((data[column] < lower_bound) | (data[column] > upper_bound)).sum()\n",
    "\n",
    "# Compute outlier counts for each column in both datasets\n",
    "outlier_counts = pd.DataFrame({\n",
    "    \"Column\": df1.columns,\n",
    "    \"Outliers in Raw| Dataset\": [detect_outliers_iqr(df1, col) for col in df1.columns],\n",
    "    \"Outliers in XPER Dataset\": [detect_outliers_iqr(df2, col) for col in df2.columns]\n",
    "})\n",
    "\n",
    "\n",
    "outlier_counts\n",
    "\n"
   ]
  },
  {
   "cell_type": "code",
   "execution_count": null,
   "metadata": {},
   "outputs": [],
   "source": []
  }
 ],
 "metadata": {
  "kernelspec": {
   "display_name": "base",
   "language": "python",
   "name": "python3"
  },
  "language_info": {
   "codemirror_mode": {
    "name": "ipython",
    "version": 3
   },
   "file_extension": ".py",
   "mimetype": "text/x-python",
   "name": "python",
   "nbconvert_exporter": "python",
   "pygments_lexer": "ipython3",
   "version": "3.12.2"
  }
 },
 "nbformat": 4,
 "nbformat_minor": 2
}
